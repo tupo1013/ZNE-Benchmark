{
 "cells": [
  {
   "cell_type": "markdown",
   "id": "bd098af3",
   "metadata": {},
   "source": [
    "# Zero Noise Extrapolation with Qulacs"
   ]
  },
  {
   "cell_type": "markdown",
   "id": "45642d67",
   "metadata": {},
   "source": [
    "## I. Import Library"
   ]
  },
  {
   "cell_type": "markdown",
   "id": "9d1ae729",
   "metadata": {},
   "source": [
    "1. Import classical libraries"
   ]
  },
  {
   "cell_type": "code",
   "execution_count": 1,
   "id": "5cb702d7",
   "metadata": {},
   "outputs": [],
   "source": [
    "import sys\n",
    "sys.path.append(\"../Help Functions\")\n",
    "import extrapolation\n",
    "\n",
    "import time\n",
    "import tracemalloc\n",
    "\n",
    "import numpy as np\n",
    "import matplotlib.pyplot as plt\n",
    "import csv"
   ]
  },
  {
   "cell_type": "markdown",
   "id": "8ef66233",
   "metadata": {},
   "source": [
    "2. Import quantum libraries"
   ]
  },
  {
   "cell_type": "code",
   "execution_count": 2,
   "id": "7202a260",
   "metadata": {},
   "outputs": [],
   "source": [
    "from qulacs import QuantumCircuit, DensityMatrix\n",
    "from qulacs.gate import H, CNOT, DepolarizingNoise"
   ]
  },
  {
   "cell_type": "markdown",
   "id": "779e8025",
   "metadata": {},
   "source": [
    "## II. Help functions for simulation"
   ]
  },
  {
   "cell_type": "markdown",
   "id": "a102d598",
   "metadata": {},
   "source": [
    "1. Create ideal GHZ circuit"
   ]
  },
  {
   "cell_type": "code",
   "execution_count": 3,
   "id": "9bf735f0",
   "metadata": {},
   "outputs": [],
   "source": [
    "def create_GHZ_circuit(num_qubits):\n",
    "    qc = QuantumCircuit(num_qubits)\n",
    "    qc.add_gate(H(0))\n",
    "    for i in range(num_qubits - 1):\n",
    "        qc.add_gate(CNOT(i, i+1))\n",
    "    return qc"
   ]
  },
  {
   "cell_type": "markdown",
   "id": "d747f9fb",
   "metadata": {},
   "source": [
    "2. Create noisy GHZ circuit that return density matrix"
   ]
  },
  {
   "cell_type": "code",
   "execution_count": 4,
   "id": "cb4ab28c",
   "metadata": {},
   "outputs": [],
   "source": [
    "def create_noisy_GHZ(num_qubits, p):\n",
    "    qc = QuantumCircuit(num_qubits)\n",
    "\n",
    "    qc.add_gate(H(0))\n",
    "    qc.add_gate(DepolarizingNoise(0, p))\n",
    "\n",
    "    for i in range(num_qubits - 1):\n",
    "        qc.add_gate(CNOT(i, i+1))\n",
    "        qc.add_gate(DepolarizingNoise(i, p))\n",
    "        qc.add_gate(DepolarizingNoise(i+1, p))\n",
    "    \n",
    "    return qc"
   ]
  },
  {
   "cell_type": "markdown",
   "id": "4dd3c630",
   "metadata": {},
   "source": [
    "3. Fidelity between ideal GHZ circuit vs noise GHZ circuit"
   ]
  },
  {
   "cell_type": "code",
   "execution_count": 5,
   "id": "f88d28c1",
   "metadata": {},
   "outputs": [],
   "source": [
    "def fidelity_ideal_noise(ideal_ghz_circuit, noise_ghz_circuit):\n",
    "    num_qubits = ideal_ghz_circuit.get_qubit_count()\n",
    "\n",
    "    ideal_state = DensityMatrix(num_qubits)\n",
    "    ideal_state.set_zero_state()\n",
    "    ideal_ghz_circuit.update_quantum_state(ideal_state)\n",
    "    rho_ideal = ideal_state.get_matrix()\n",
    "\n",
    "    noisy_state = DensityMatrix(num_qubits)\n",
    "    noisy_state.set_zero_state()\n",
    "    noise_ghz_circuit.update_quantum_state(noisy_state)\n",
    "    rho_noisy = noisy_state.get_matrix()\n",
    "\n",
    "    fidelity = np.real(np.trace(rho_ideal @ rho_noisy))\n",
    "    return fidelity"
   ]
  },
  {
   "cell_type": "markdown",
   "id": "70fc6963",
   "metadata": {},
   "source": [
    "## III. Circuit folding and gate folding"
   ]
  },
  {
   "cell_type": "markdown",
   "id": "8437f954",
   "metadata": {},
   "source": [
    "1. Folding circuit"
   ]
  },
  {
   "cell_type": "code",
   "execution_count": 6,
   "id": "70e7b5ad",
   "metadata": {},
   "outputs": [],
   "source": [
    "def folding_circuit(num_qubits, p, n):\n",
    "    qc = QuantumCircuit(num_qubits)\n",
    "\n",
    "    qc.add_gate(H(0))\n",
    "    qc.add_gate(DepolarizingNoise(0, p))\n",
    "    \n",
    "    for i in range(num_qubits - 1):\n",
    "        qc.add_gate(CNOT(i, i+1))\n",
    "        qc.add_gate(DepolarizingNoise(i, p))\n",
    "        qc.add_gate(DepolarizingNoise(i+1, p))\n",
    "\n",
    "    for _ in range(n):\n",
    "        qc.add_gate(H(0))\n",
    "        qc.add_gate(DepolarizingNoise(0, p))\n",
    "        \n",
    "        for i in range(num_qubits - 1):\n",
    "            qc.add_gate(CNOT(i, i+1))\n",
    "            qc.add_gate(DepolarizingNoise(i, p))\n",
    "            qc.add_gate(DepolarizingNoise(i+1, p))\n",
    "\n",
    "        for i in reversed(range(num_qubits - 1)):\n",
    "            qc.add_gate(CNOT(i, i+1))\n",
    "            qc.add_gate(DepolarizingNoise(i, p))\n",
    "            qc.add_gate(DepolarizingNoise(i+1, p))\n",
    "        \n",
    "        qc.add_gate(H(0))\n",
    "        qc.add_gate(DepolarizingNoise(0, p))\n",
    "    \n",
    "    return qc"
   ]
  },
  {
   "cell_type": "markdown",
   "id": "cdcb220f",
   "metadata": {},
   "source": [
    "2. Folding gate"
   ]
  },
  {
   "cell_type": "code",
   "execution_count": 7,
   "id": "3225bc2a",
   "metadata": {},
   "outputs": [],
   "source": [
    "def folding_gate(num_qubits, p, n):\n",
    "    qc = QuantumCircuit(num_qubits)\n",
    "\n",
    "    for _ in range(n):\n",
    "        qc.add_gate(H(0))\n",
    "        qc.add_gate(DepolarizingNoise(0, p))\n",
    "        qc.add_gate(H(0)) \n",
    "        qc.add_gate(DepolarizingNoise(0, p))\n",
    "    qc.add_gate(H(0))\n",
    "    qc.add_gate(DepolarizingNoise(0, p))\n",
    "\n",
    "    for i in range(num_qubits - 1):\n",
    "        for _ in range(n):\n",
    "            qc.add_gate(CNOT(i, i+1))\n",
    "            qc.add_gate(DepolarizingNoise(i, p))\n",
    "            qc.add_gate(DepolarizingNoise(i+1, p))\n",
    "            \n",
    "            qc.add_gate(CNOT(i, i+1))\n",
    "            qc.add_gate(DepolarizingNoise(i, p))\n",
    "            qc.add_gate(DepolarizingNoise(i+1, p))\n",
    "        \n",
    "        qc.add_gate(CNOT(i, i+1))\n",
    "        qc.add_gate(DepolarizingNoise(i, p))\n",
    "        qc.add_gate(DepolarizingNoise(i+1, p))\n",
    "\n",
    "    return qc"
   ]
  },
  {
   "cell_type": "markdown",
   "id": "7935b160",
   "metadata": {},
   "source": [
    "## IV. Run experiment"
   ]
  },
  {
   "cell_type": "markdown",
   "id": "fe4649e3",
   "metadata": {},
   "source": [
    "1. Set up"
   ]
  },
  {
   "cell_type": "code",
   "execution_count": 8,
   "id": "7e904100",
   "metadata": {},
   "outputs": [],
   "source": [
    "qubit_sizes = list(range(2, 11))\n",
    "noise = 0.02"
   ]
  },
  {
   "cell_type": "markdown",
   "id": "bd158752",
   "metadata": {},
   "source": [
    "## V. Run Code"
   ]
  },
  {
   "cell_type": "code",
   "execution_count": 9,
   "id": "32487409",
   "metadata": {},
   "outputs": [
    {
     "name": "stdout",
     "output_type": "stream",
     "text": [
      "\n",
      "Running scalability test for 2 qubits...\n",
      "  Fidelity before ZNE: 0.9479\n",
      "\n",
      "------------------------------------------Circuit Folding------------------------------------------\n",
      "  Extrapolated zero-noise fidelity with Exponential fidelity: 0.9949\n",
      "  Peak Memory Usage Baseline Circuit = 0.00 MB\n",
      "  Execution Time Baseline Circuit: 0.0015 sec\n",
      "  Peak Memory Usage 2 folds = 0.00 MB\n",
      "  Execution Time 2 folds: 0.0000 sec\n",
      "  Peak Memory Usage Overall (no baseline) = 0.00 MB\n",
      "  Execution Time Overall (no baseline): 0.0044 sec\n",
      "\n",
      "Running scalability test for 3 qubits...\n",
      "  Fidelity before ZNE: 0.9107\n",
      "\n",
      "------------------------------------------Circuit Folding------------------------------------------\n",
      "  Extrapolated zero-noise fidelity with Exponential fidelity: 0.9886\n",
      "  Peak Memory Usage Baseline Circuit = 0.00 MB\n",
      "  Execution Time Baseline Circuit: 0.0000 sec\n",
      "  Peak Memory Usage 2 folds = 0.00 MB\n",
      "  Execution Time 2 folds: 0.0013 sec\n",
      "  Peak Memory Usage Overall (no baseline) = 0.01 MB\n",
      "  Execution Time Overall (no baseline): 0.0070 sec\n",
      "\n",
      "Running scalability test for 4 qubits...\n",
      "  Fidelity before ZNE: 0.8752\n",
      "\n",
      "------------------------------------------Circuit Folding------------------------------------------\n",
      "  Extrapolated zero-noise fidelity with Exponential fidelity: 0.9826\n",
      "  Peak Memory Usage Baseline Circuit = 0.01 MB\n",
      "  Execution Time Baseline Circuit: 0.0007 sec\n",
      "  Peak Memory Usage 2 folds = 0.00 MB\n",
      "  Execution Time 2 folds: 0.0000 sec\n",
      "  Peak Memory Usage Overall (no baseline) = 0.01 MB\n",
      "  Execution Time Overall (no baseline): 0.0093 sec\n",
      "\n",
      "Running scalability test for 5 qubits...\n",
      "  Fidelity before ZNE: 0.8412\n",
      "\n",
      "------------------------------------------Circuit Folding------------------------------------------\n",
      "  Extrapolated zero-noise fidelity with Exponential fidelity: 0.9742\n",
      "  Peak Memory Usage Baseline Circuit = 0.02 MB\n",
      "  Execution Time Baseline Circuit: 0.0003 sec\n",
      "  Peak Memory Usage 2 folds = 0.00 MB\n",
      "  Execution Time 2 folds: 0.0055 sec\n",
      "  Peak Memory Usage Overall (no baseline) = 0.02 MB\n",
      "  Execution Time Overall (no baseline): 0.0225 sec\n",
      "\n",
      "Running scalability test for 6 qubits...\n",
      "  Fidelity before ZNE: 0.8087\n",
      "\n",
      "------------------------------------------Circuit Folding------------------------------------------\n",
      "  Extrapolated zero-noise fidelity with Exponential fidelity: 0.9636\n",
      "  Peak Memory Usage Baseline Circuit = 0.06 MB\n",
      "  Execution Time Baseline Circuit: 0.0030 sec\n",
      "  Peak Memory Usage 2 folds = 0.00 MB\n",
      "  Execution Time 2 folds: 0.0117 sec\n",
      "  Peak Memory Usage Overall (no baseline) = 0.07 MB\n",
      "  Execution Time Overall (no baseline): 0.1038 sec\n",
      "\n",
      "Running scalability test for 7 qubits...\n",
      "  Fidelity before ZNE: 0.7776\n",
      "\n",
      "------------------------------------------Circuit Folding------------------------------------------\n",
      "  Extrapolated zero-noise fidelity with Exponential fidelity: 0.9511\n",
      "  Peak Memory Usage Baseline Circuit = 0.25 MB\n",
      "  Execution Time Baseline Circuit: 0.0210 sec\n",
      "  Peak Memory Usage 2 folds = 0.00 MB\n",
      "  Execution Time 2 folds: 0.0962 sec\n",
      "  Peak Memory Usage Overall (no baseline) = 0.26 MB\n",
      "  Execution Time Overall (no baseline): 0.4265 sec\n",
      "\n",
      "Running scalability test for 8 qubits...\n",
      "  Fidelity before ZNE: 0.7478\n",
      "\n",
      "------------------------------------------Circuit Folding------------------------------------------\n",
      "  Extrapolated zero-noise fidelity with Exponential fidelity: 0.9371\n",
      "  Peak Memory Usage Baseline Circuit = 1.00 MB\n",
      "  Execution Time Baseline Circuit: 0.0689 sec\n",
      "  Peak Memory Usage 2 folds = 0.00 MB\n",
      "  Execution Time 2 folds: 0.2988 sec\n",
      "  Peak Memory Usage Overall (no baseline) = 1.01 MB\n",
      "  Execution Time Overall (no baseline): 1.5122 sec\n",
      "\n",
      "Running scalability test for 9 qubits...\n",
      "  Fidelity before ZNE: 0.7192\n",
      "\n",
      "------------------------------------------Circuit Folding------------------------------------------\n",
      "  Extrapolated zero-noise fidelity with Exponential fidelity: 0.9219\n",
      "  Peak Memory Usage Baseline Circuit = 4.00 MB\n",
      "  Execution Time Baseline Circuit: 0.3236 sec\n",
      "  Peak Memory Usage 2 folds = 0.00 MB\n",
      "  Execution Time 2 folds: 1.4488 sec\n",
      "  Peak Memory Usage Overall (no baseline) = 4.01 MB\n",
      "  Execution Time Overall (no baseline): 7.3457 sec\n",
      "\n",
      "Running scalability test for 10 qubits...\n",
      "  Fidelity before ZNE: 0.6919\n",
      "\n",
      "------------------------------------------Circuit Folding------------------------------------------\n",
      "  Extrapolated zero-noise fidelity with Exponential fidelity: 0.9056\n",
      "  Peak Memory Usage Baseline Circuit = 16.00 MB\n",
      "  Execution Time Baseline Circuit: 0.9809 sec\n",
      "  Peak Memory Usage 2 folds = 0.00 MB\n",
      "  Execution Time 2 folds: 4.1397 sec\n",
      "  Peak Memory Usage Overall (no baseline) = 16.01 MB\n",
      "  Execution Time Overall (no baseline): 21.6154 sec\n"
     ]
    }
   ],
   "source": [
    "circuit_results = []\n",
    "\n",
    "max_num_fold = 4\n",
    "stretch = [2*i + 1 for i in range(max_num_fold + 1)]\n",
    "\n",
    "for num_qubits in qubit_sizes:\n",
    "    print(f\"\\nRunning scalability test for {num_qubits} qubits...\")\n",
    "\n",
    "    ideal_ghz_circuit = create_GHZ_circuit(num_qubits)\n",
    "\n",
    "    start = time.time()\n",
    "    tracemalloc.start()\n",
    "\n",
    "    noise_result = create_noisy_GHZ(num_qubits, noise)\n",
    "    fidelity_before_ZNE = fidelity_ideal_noise(ideal_ghz_circuit, noise_result)\n",
    "\n",
    "    _, peak_mem_base = tracemalloc.get_traced_memory()\n",
    "    tracemalloc.stop()\n",
    "    end = time.time()\n",
    "\n",
    "    time_exec_base = end - start\n",
    "\n",
    "    print(f\"  Fidelity before ZNE: {fidelity_before_ZNE:.4f}\")\n",
    "    \n",
    "    # Circuit folding\n",
    "\n",
    "    qubit_fidelities = []\n",
    "    \n",
    "    start = time.time()\n",
    "    tracemalloc.start()\n",
    "\n",
    "    for i in range(0, max_num_fold + 1):\n",
    "        if i==2:\n",
    "            start_fold = time.time()\n",
    "            before = tracemalloc.take_snapshot()\n",
    "\n",
    "            noise_circuit= folding_circuit(num_qubits, noise, i)\n",
    "            fidelity = fidelity_ideal_noise(ideal_ghz_circuit, noise_circuit)\n",
    "\n",
    "            after = tracemalloc.take_snapshot()\n",
    "            end_fold = time.time()\n",
    "\n",
    "            stats = after.compare_to(before, 'lineno')\n",
    "            peak_mem_fold = sum(stat.size_diff for stat in stats if stat.size_diff > 0)\n",
    "            time_exec_fold = end_fold - start_fold\n",
    "        else:\n",
    "            noise_circuit= folding_circuit(num_qubits, noise, i)\n",
    "            fidelity = fidelity_ideal_noise(ideal_ghz_circuit, noise_circuit)\n",
    "        qubit_fidelities.append(fidelity)\n",
    "\n",
    "    _, peak_mem_overall = tracemalloc.get_traced_memory()\n",
    "    tracemalloc.stop()\n",
    "\n",
    "    zero_expo_fidelity = extrapolation.exponential_extrapolation(stretch, qubit_fidelities) \n",
    "\n",
    "    end = time.time()\n",
    "\n",
    "    time_exec_overall = end - start\n",
    "\n",
    "    circuit_results.append((num_qubits, fidelity_before_ZNE, zero_expo_fidelity, \n",
    "                            time_exec_base, peak_mem_base/1024/1024, \n",
    "                            time_exec_fold, peak_mem_fold/1024/1024, \n",
    "                            time_exec_overall, peak_mem_overall/1024/1024))\n",
    "\n",
    "    print(\"\\n------------------------------------------Circuit Folding------------------------------------------\")\n",
    "    print(f\"  Extrapolated zero-noise fidelity with Exponential fidelity: {zero_expo_fidelity:.4f}\")\n",
    "\n",
    "    print(f\"  Peak Memory Usage Baseline Circuit = {peak_mem_base/1024/1024:.2f} MB\")\n",
    "    print(f\"  Execution Time Baseline Circuit: {time_exec_base:.4f} sec\")\n",
    "\n",
    "    print(f\"  Peak Memory Usage 2 folds = {peak_mem_fold/1024/1024:.2f} MB\")\n",
    "    print(f\"  Execution Time 2 folds: {time_exec_fold:.4f} sec\")\n",
    "\n",
    "    print(f\"  Peak Memory Usage Overall (no baseline) = {peak_mem_overall/1024/1024:.2f} MB\")\n",
    "    print(f\"  Execution Time Overall (no baseline): {time_exec_overall:.4f} sec\")"
   ]
  },
  {
   "cell_type": "markdown",
   "id": "b5e52f24",
   "metadata": {},
   "source": [
    "## VI. Plot scalability results"
   ]
  },
  {
   "cell_type": "markdown",
   "id": "e7cce1db",
   "metadata": {},
   "source": [
    "1. Graph comparing fidelity before and after ZNE (circuit folding & gate folding) using exponential extrapolation"
   ]
  },
  {
   "cell_type": "code",
   "execution_count": 10,
   "id": "65134261",
   "metadata": {},
   "outputs": [
    {
     "data": {
      "image/png": "[encoded data removed]",
      "text/plain": [
       "<Figure size 800x500 with 1 Axes>"
      ]
     },
     "metadata": {},
     "output_type": "display_data"
    }
   ],
   "source": [
    "num_qubits_list, fidelities_before, fidelities_exp_circuit, time_base, mem_base, time_circ_fold, mem_circ_fold, time_overall_circ, mem_overall_circ = zip(*circuit_results)\n",
    "\n",
    "plt.figure(figsize=(8, 5))\n",
    "\n",
    "plt.plot(num_qubits_list, fidelities_before, 'o-', label=\"Before ZNE\")\n",
    "plt.plot(num_qubits_list, fidelities_exp_circuit, 'o-', label=\"Circuit Folding\")\n",
    "\n",
    "plt.xlabel(\"Number of Qubits\")\n",
    "plt.ylabel(\"Fidelity\")\n",
    "plt.legend()\n",
    "plt.title(\"Scalability: Fidelity vs. Number of Qubits\")\n",
    "plt.grid()\n",
    "plt.show()"
   ]
  },
  {
   "cell_type": "markdown",
   "id": "d0f7bc09",
   "metadata": {},
   "source": [
    "## VI. Collect Data"
   ]
  },
  {
   "cell_type": "code",
   "execution_count": 11,
   "id": "0fa92c7d",
   "metadata": {},
   "outputs": [],
   "source": [
    "platform = \"qulacs\"\n",
    "start_qubits = 2\n",
    "\n",
    "datasets = {\n",
    "    \"../Record Data/Memory Usage/baseline.csv\": mem_base,\n",
    "    \"../Record Data/Memory Usage/fold2_circuit.csv\": mem_circ_fold,\n",
    "    \"../Record Data/Memory Usage/overall_fold_circuit.csv\": mem_overall_circ,\n",
    "    \"../Record Data/Time Execution/baseline.csv\": time_base,\n",
    "    \"../Record Data/Time Execution/fold2_circuit.csv\": time_circ_fold,\n",
    "    \"../Record Data/Time Execution/overall_fold_circuit.csv\": time_overall_circ,\n",
    "}\n",
    "\n",
    "for filepath, values in datasets.items():\n",
    "    try:\n",
    "        with open(filepath, \"r\") as f:\n",
    "            lines = f.readlines()\n",
    "        with open(filepath, \"w\") as f:\n",
    "            for line in lines:\n",
    "                if platform not in line:\n",
    "                    f.write(line)\n",
    "    except FileNotFoundError:\n",
    "        pass\n",
    "\n",
    "    with open(filepath, mode=\"a\", newline=\"\") as file:\n",
    "        writer = csv.writer(file)\n",
    "        for i, t in enumerate(values):\n",
    "            writer.writerow([platform, start_qubits + i, t])"
   ]
  }
 ],
 "metadata": {
  "kernelspec": {
   "display_name": "Python 3",
   "language": "python",
   "name": "python3"
  },
  "language_info": {
   "codemirror_mode": {
    "name": "ipython",
    "version": 3
   },
   "file_extension": ".py",
   "mimetype": "text/x-python",
   "name": "python",
   "nbconvert_exporter": "python",
   "pygments_lexer": "ipython3",
   "version": "3.12.10"
  }
 },
 "nbformat": 4,
 "nbformat_minor": 5
}
