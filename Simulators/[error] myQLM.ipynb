{
 "cells": [
  {
   "cell_type": "markdown",
   "id": "bd098af3",
   "metadata": {},
   "source": [
    "# Zero Noise Extrapolation with myQLM\n",
    "\n",
    "Can't calculate DensityMatrix in noise circuit"
   ]
  },
  {
   "cell_type": "markdown",
   "id": "45642d67",
   "metadata": {},
   "source": [
    "## I. Import Library"
   ]
  },
  {
   "cell_type": "markdown",
   "id": "9d1ae729",
   "metadata": {},
   "source": [
    "1. Import classical libraries"
   ]
  },
  {
   "cell_type": "code",
   "execution_count": 102,
   "id": "5cb702d7",
   "metadata": {},
   "outputs": [],
   "source": [
    "import sys\n",
    "sys.path.append(\"../Help Functions\")\n",
    "import extrapolation\n",
    "\n",
    "import time\n",
    "import tracemalloc\n",
    "\n",
    "import numpy as np\n",
    "import matplotlib.pyplot as plt\n",
    "import csv"
   ]
  },
  {
   "cell_type": "markdown",
   "id": "8ef66233",
   "metadata": {},
   "source": [
    "2. Import quantum libraries"
   ]
  },
  {
   "cell_type": "code",
   "execution_count": 103,
   "id": "7202a260",
   "metadata": {},
   "outputs": [],
   "source": [
    "from qat.lang.AQASM import Program, H, CNOT\n",
    "from qat.quops import make_depolarizing_channel\n",
    "from qat.quops import QuantumChannel\n",
    "from qat.qpus import PyLinalg  # simulator"
   ]
  },
  {
   "cell_type": "markdown",
   "id": "779e8025",
   "metadata": {},
   "source": [
    "## II. Help functions for simulation"
   ]
  },
  {
   "cell_type": "markdown",
   "id": "a102d598",
   "metadata": {},
   "source": [
    "1. Create ideal GHZ circuit"
   ]
  },
  {
   "cell_type": "code",
   "execution_count": 104,
   "id": "9bf735f0",
   "metadata": {},
   "outputs": [],
   "source": [
    "def create_GHZ_circuit(num_qubits):\n",
    "    prog = Program()\n",
    "    qbits = prog.qalloc(num_qubits)\n",
    "    H(qbits[0])\n",
    "    for i in range(num_qubits - 1):\n",
    "        CNOT(qbits[i], qbits[i+1])\n",
    "    return prog.to_circ()"
   ]
  },
  {
   "cell_type": "markdown",
   "id": "d747f9fb",
   "metadata": {},
   "source": [
    "2. Create noisy GHZ circuit that return density matrix"
   ]
  },
  {
   "cell_type": "code",
   "execution_count": 105,
   "id": "cb4ab28c",
   "metadata": {},
   "outputs": [],
   "source": [
    "def create_noisy_GHZ(num_qubits, p):\n",
    "    prog = Program()\n",
    "    qbits = prog.qalloc(num_qubits)\n",
    "\n",
    "    depol_channel = make_depolarizing_channel(1, p)\n",
    "    setattr(depol_channel, \"get_variables\", lambda: [])\n",
    "\n",
    "    H(qbits[0])\n",
    "    prog.apply(depol_channel, qbits[0])\n",
    "\n",
    "    for i in range(num_qubits - 1):\n",
    "        CNOT(qbits[i], qbits[i + 1])\n",
    "        prog.apply(depol_channel, qbits[i]) \n",
    "        prog.apply(depol_channel, qbits[i + 1])\n",
    "\n",
    "    return prog"
   ]
  },
  {
   "cell_type": "markdown",
   "id": "4dd3c630",
   "metadata": {},
   "source": [
    "3. Fidelity between ideal GHZ circuit vs noise GHZ circuit"
   ]
  },
  {
   "cell_type": "code",
   "execution_count": null,
   "id": "f88d28c1",
   "metadata": {},
   "outputs": [],
   "source": [
    "def fidelity_ideal_noise(ideal_circuit, noisy_circuit):\n",
    "    qpu = PyLinalg()\n",
    "\n",
    "    job_ideal = ideal_circuit.to_job()\n",
    "    ket_ideal = qpu.submit(job_ideal).amplitudes\n",
    "    rho_ideal = np.outer(ket_ideal, np.conj(ket_ideal))\n",
    "\n",
    "    job_noisy = noisy_circuit.to_job()\n",
    "    ket_noisy = qpu.submit(job_noisy).amplitudes\n",
    "    rho_noisy = np.outer(ket_noisy, np.conj(ket_noisy))\n",
    "    \n",
    "    fidelity = np.real(np.trace(rho_ideal @ rho_noisy))\n",
    "    return fidelity\n"
   ]
  },
  {
   "cell_type": "markdown",
   "id": "70fc6963",
   "metadata": {},
   "source": [
    "## III. Circuit folding and gate folding"
   ]
  },
  {
   "cell_type": "markdown",
   "id": "8437f954",
   "metadata": {},
   "source": [
    "1. Folding circuit"
   ]
  },
  {
   "cell_type": "code",
   "execution_count": 107,
   "id": "70e7b5ad",
   "metadata": {},
   "outputs": [],
   "source": [
    "def folding_circuit(num_qubits, p, n):\n",
    "    prog = Program()\n",
    "    qbits = prog.qalloc(num_qubits)\n",
    "\n",
    "    depol_channel = make_depolarizing_channel(1, p)\n",
    "    setattr(depol_channel, \"get_variables\", lambda: [])\n",
    "\n",
    "    # Initial H + noise\n",
    "    H(qbits[0])\n",
    "    prog.apply(depol_channel, qbits[0])\n",
    "\n",
    "    # Initial CNOT chain + noise\n",
    "    for i in range(num_qubits - 1):\n",
    "        CNOT(qbits[i], qbits[i+1])\n",
    "        prog.apply(depol_channel, qbits[i])\n",
    "        prog.apply(depol_channel, qbits[i+1])\n",
    "\n",
    "    # Folding repetitions\n",
    "    for _ in range(n):\n",
    "        H(qbits[0])\n",
    "        prog.apply(depol_channel, qbits[0])\n",
    "\n",
    "        for i in range(num_qubits - 1):\n",
    "            CNOT(qbits[i], qbits[i+1])\n",
    "            prog.apply(depol_channel, qbits[i])\n",
    "            prog.apply(depol_channel, qbits[i+1])\n",
    "\n",
    "        for i in reversed(range(num_qubits - 1)):\n",
    "            CNOT(qbits[i], qbits[i+1])\n",
    "            prog.apply(depol_channel, qbits[i])\n",
    "            prog.apply(depol_channel, qbits[i+1])\n",
    "\n",
    "        H(qbits[0])\n",
    "        prog.apply(depol_channel, qbits[0])\n",
    "\n",
    "    return prog.to_circ()\n"
   ]
  },
  {
   "cell_type": "markdown",
   "id": "cdcb220f",
   "metadata": {},
   "source": [
    "2. Folding gate"
   ]
  },
  {
   "cell_type": "code",
   "execution_count": 108,
   "id": "3225bc2a",
   "metadata": {},
   "outputs": [],
   "source": [
    "def folding_gate(num_qubits, p, n):\n",
    "    prog = Program()\n",
    "    qbits = prog.qalloc(num_qubits)\n",
    "\n",
    "    # Create depolarizing channel\n",
    "    depol_channel = make_depolarizing_channel(p)\n",
    "\n",
    "    # Folded H gates with per-gate noise\n",
    "    for _ in range(n):\n",
    "        H(qbits[0])\n",
    "        prog.apply(depol_channel, qbits[0])\n",
    "        H(qbits[0])\n",
    "        prog.apply(depol_channel, qbits[0])\n",
    "    H(qbits[0])\n",
    "    prog.apply(depol_channel, qbits[0])\n",
    "\n",
    "    # Folded CNOT gates with per-qubit noise\n",
    "    for i in range(num_qubits - 1):\n",
    "        for _ in range(n):\n",
    "            CNOT(qbits[i], qbits[i+1])\n",
    "            prog.apply(depol_channel, qbits[i])\n",
    "            prog.apply(depol_channel, qbits[i+1])\n",
    "            CNOT(qbits[i], qbits[i+1])\n",
    "            prog.apply(depol_channel, qbits[i])\n",
    "            prog.apply(depol_channel, qbits[i+1])\n",
    "        CNOT(qbits[i], qbits[i+1])\n",
    "        prog.apply(depol_channel, qbits[i])\n",
    "        prog.apply(depol_channel, qbits[i+1])\n",
    "\n",
    "    return prog.to_circ()"
   ]
  },
  {
   "cell_type": "markdown",
   "id": "7935b160",
   "metadata": {},
   "source": [
    "## IV. Run experiment"
   ]
  },
  {
   "cell_type": "markdown",
   "id": "fe4649e3",
   "metadata": {},
   "source": [
    "1. Set up"
   ]
  },
  {
   "cell_type": "code",
   "execution_count": 109,
   "id": "7e904100",
   "metadata": {},
   "outputs": [],
   "source": [
    "qubit_sizes = list(range(2, 11))\n",
    "noise = 0.02"
   ]
  },
  {
   "cell_type": "markdown",
   "id": "bd158752",
   "metadata": {},
   "source": [
    "## V. Run Code"
   ]
  },
  {
   "cell_type": "code",
   "execution_count": 110,
   "id": "32487409",
   "metadata": {},
   "outputs": [
    {
     "name": "stdout",
     "output_type": "stream",
     "text": [
      "\n",
      "Running scalability test for 2 qubits...\n"
     ]
    },
    {
     "ename": "AttributeError",
     "evalue": "'Result' object has no attribute 'amplitudes'",
     "output_type": "error",
     "traceback": [
      "\u001b[31m---------------------------------------------------------------------------\u001b[39m",
      "\u001b[31mAttributeError\u001b[39m                            Traceback (most recent call last)",
      "\u001b[36mCell\u001b[39m\u001b[36m \u001b[39m\u001b[32mIn[110]\u001b[39m\u001b[32m, line 16\u001b[39m\n\u001b[32m     13\u001b[39m tracemalloc.start()\n\u001b[32m     15\u001b[39m noise_result = create_noisy_GHZ(num_qubits, noise)\n\u001b[32m---> \u001b[39m\u001b[32m16\u001b[39m fidelity_before_ZNE = \u001b[43mfidelity_ideal_noise\u001b[49m\u001b[43m(\u001b[49m\u001b[43mideal_ghz_circuit\u001b[49m\u001b[43m,\u001b[49m\u001b[43m \u001b[49m\u001b[43mnoise_result\u001b[49m\u001b[43m)\u001b[49m\n\u001b[32m     18\u001b[39m _, peak_mem_base = tracemalloc.get_traced_memory()\n\u001b[32m     19\u001b[39m tracemalloc.stop()\n",
      "\u001b[36mCell\u001b[39m\u001b[36m \u001b[39m\u001b[32mIn[106]\u001b[39m\u001b[32m, line 9\u001b[39m, in \u001b[36mfidelity_ideal_noise\u001b[39m\u001b[34m(ideal_circuit, noisy_circuit)\u001b[39m\n\u001b[32m      7\u001b[39m \u001b[38;5;66;03m# Simulate the ideal circuit\u001b[39;00m\n\u001b[32m      8\u001b[39m job_ideal = ideal_circuit.to_job()\n\u001b[32m----> \u001b[39m\u001b[32m9\u001b[39m ket_ideal = \u001b[43mqpu\u001b[49m\u001b[43m.\u001b[49m\u001b[43msubmit\u001b[49m\u001b[43m(\u001b[49m\u001b[43mjob_ideal\u001b[49m\u001b[43m)\u001b[49m\u001b[43m.\u001b[49m\u001b[43mamplitudes\u001b[49m\n\u001b[32m     10\u001b[39m rho_ideal = np.outer(ket_ideal, np.conj(ket_ideal))  \u001b[38;5;66;03m# Density matrix\u001b[39;00m\n\u001b[32m     12\u001b[39m \u001b[38;5;66;03m# Simulate the noisy circuit\u001b[39;00m\n",
      "\u001b[31mAttributeError\u001b[39m: 'Result' object has no attribute 'amplitudes'"
     ]
    }
   ],
   "source": [
    "circuit_results = []\n",
    "gate_results = []\n",
    "\n",
    "max_num_fold = 4\n",
    "stretch = [2*i + 1 for i in range(max_num_fold + 1)]\n",
    "\n",
    "for num_qubits in qubit_sizes:\n",
    "    print(f\"\\nRunning scalability test for {num_qubits} qubits...\")\n",
    "\n",
    "    ideal_ghz_circuit = create_GHZ_circuit(num_qubits)\n",
    "\n",
    "    start = time.time()\n",
    "    tracemalloc.start()\n",
    "\n",
    "    noise_result = create_noisy_GHZ(num_qubits, noise)\n",
    "    fidelity_before_ZNE = fidelity_ideal_noise(ideal_ghz_circuit, noise_result)\n",
    "\n",
    "    _, peak_mem_base = tracemalloc.get_traced_memory()\n",
    "    tracemalloc.stop()\n",
    "    end = time.time()\n",
    "\n",
    "    time_exec_base = end - start\n",
    "\n",
    "    print(f\"  Fidelity before ZNE: {fidelity_before_ZNE:.4f}\")\n",
    "    \n",
    "    # Circuit folding\n",
    "\n",
    "    qubit_fidelities = []\n",
    "    \n",
    "    start = time.time()\n",
    "    tracemalloc.start()\n",
    "\n",
    "    for i in range(0, max_num_fold + 1):\n",
    "        if i==2:\n",
    "            start_fold = time.time()\n",
    "            before = tracemalloc.take_snapshot()\n",
    "\n",
    "            noise_circuit= folding_circuit(num_qubits, noise, i)\n",
    "            fidelity = fidelity_ideal_noise(ideal_ghz_circuit, noise_circuit)\n",
    "\n",
    "            after = tracemalloc.take_snapshot()\n",
    "            end_fold = time.time()\n",
    "\n",
    "            stats = after.compare_to(before, 'lineno')\n",
    "            peak_mem_fold = sum(stat.size_diff for stat in stats if stat.size_diff > 0)\n",
    "            time_exec_fold = end_fold - start_fold\n",
    "        else:\n",
    "            noise_circuit= folding_circuit(num_qubits, noise, i)\n",
    "            fidelity = fidelity_ideal_noise(ideal_ghz_circuit, noise_circuit)\n",
    "        qubit_fidelities.append(fidelity)\n",
    "\n",
    "    _, peak_mem_overall = tracemalloc.get_traced_memory()\n",
    "    tracemalloc.stop()\n",
    "\n",
    "    zero_expo_fidelity = extrapolation.exponential_extrapolation(stretch, qubit_fidelities) \n",
    "\n",
    "    end = time.time()\n",
    "\n",
    "    time_exec_overall = end - start\n",
    "\n",
    "    circuit_results.append((num_qubits, fidelity_before_ZNE, zero_expo_fidelity, \n",
    "                            time_exec_base, peak_mem_base/1024/1024, \n",
    "                            time_exec_fold, peak_mem_fold/1024/1024, \n",
    "                            time_exec_overall, peak_mem_overall/1024/1024))\n",
    "\n",
    "    print(\"\\n------------------------------------------Circuit Folding------------------------------------------\")\n",
    "    print(f\"  Extrapolated zero-noise fidelity with Exponential fidelity: {zero_expo_fidelity:.4f}\")\n",
    "\n",
    "    print(f\"  Peak Memory Usage Baseline Circuit = {peak_mem_base/1024/1024:.2f} MB\")\n",
    "    print(f\"  Execution Time Baseline Circuit: {time_exec_base:.4f} sec\")\n",
    "\n",
    "    print(f\"  Peak Memory Usage 2 folds = {peak_mem_fold/1024/1024:.2f} MB\")\n",
    "    print(f\"  Execution Time 2 folds: {time_exec_fold:.4f} sec\")\n",
    "\n",
    "    print(f\"  Peak Memory Usage Overall (no baseline) = {peak_mem_overall/1024/1024:.2f} MB\")\n",
    "    print(f\"  Execution Time Overall (no baseline): {time_exec_overall:.4f} sec\")\n",
    "\n",
    "    \n",
    "    # Gate Folding\n",
    "\n",
    "    qubit_fidelities = []\n",
    "    \n",
    "    start = time.time()\n",
    "    tracemalloc.start()\n",
    "\n",
    "    for i in range(0, max_num_fold + 1):\n",
    "        if i==2:\n",
    "            start_fold = time.time()\n",
    "            before = tracemalloc.take_snapshot()\n",
    "\n",
    "            noise_circuit= folding_gate(num_qubits, noise, i)\n",
    "            fidelity = fidelity_ideal_noise(ideal_ghz_circuit, noise_circuit)\n",
    "\n",
    "            after = tracemalloc.take_snapshot()\n",
    "            end_fold = time.time()\n",
    "\n",
    "            stats = after.compare_to(before, 'lineno')\n",
    "            peak_mem_fold = sum(stat.size_diff for stat in stats if stat.size_diff > 0)\n",
    "            time_exec_fold = end_fold - start_fold\n",
    "        else:\n",
    "            noise_circuit= folding_gate(num_qubits, noise, i)\n",
    "            fidelity = fidelity_ideal_noise(ideal_ghz_circuit, noise_circuit)\n",
    "        qubit_fidelities.append(fidelity)\n",
    "\n",
    "    _, peak_mem_overall = tracemalloc.get_traced_memory()\n",
    "    tracemalloc.stop()\n",
    "\n",
    "    zero_expo_fidelity = extrapolation.exponential_extrapolation(stretch, qubit_fidelities) \n",
    "\n",
    "    end = time.time()\n",
    "\n",
    "    time_exec_overall = end - start\n",
    "\n",
    "    gate_results.append((num_qubits, fidelity_before_ZNE, zero_expo_fidelity, \n",
    "                            time_exec_base, peak_mem_base/1024/1024, \n",
    "                            time_exec_fold, peak_mem_fold/1024/1024, \n",
    "                            time_exec_overall, peak_mem_overall/1024/1024))\n",
    "\n",
    "    print(\"\\n------------------------------------------Gate Folding------------------------------------------\")\n",
    "    print(f\"  Extrapolated zero-noise fidelity with Exponential fidelity: {zero_expo_fidelity:.4f}\")\n",
    "\n",
    "    print(f\"  Peak Memory Usage Baseline Circuit = {peak_mem_base/1024/1024:.2f} MB\")\n",
    "    print(f\"  Execution Time Baseline Circuit: {time_exec_base:.4f} sec\")\n",
    "\n",
    "    print(f\"  Peak Memory Usage 2 folds = {peak_mem_fold/1024/1024:.2f} MB\")\n",
    "    print(f\"  Execution Time 2 folds: {time_exec_fold:.4f} sec\")\n",
    "\n",
    "    print(f\"  Peak Memory Usage Overall (no baseline) = {peak_mem_overall/1024/1024:.2f} MB\")\n",
    "    print(f\"  Execution Time Overall (no baseline): {time_exec_overall:.4f} sec\")"
   ]
  },
  {
   "cell_type": "markdown",
   "id": "b5e52f24",
   "metadata": {},
   "source": [
    "## VI. Plot scalability results"
   ]
  },
  {
   "cell_type": "markdown",
   "id": "e7cce1db",
   "metadata": {},
   "source": [
    "1. Graph comparing fidelity before and after ZNE (circuit folding & gate folding) using exponential extrapolation"
   ]
  },
  {
   "cell_type": "code",
   "execution_count": null,
   "id": "65134261",
   "metadata": {},
   "outputs": [
    {
     "data": {
      "image/png": "[encoded data removed]",
      "text/plain": [
       "<Figure size 800x500 with 1 Axes>"
      ]
     },
     "metadata": {},
     "output_type": "display_data"
    }
   ],
   "source": [
    "num_qubits_list, fidelities_before, fidelities_exp_circuit, time_base, mem_base, time_circ_fold, mem_circ_fold, time_overall_circ, mem_overall_circ = zip(*circuit_results)\n",
    "_, _, fidelities_exp_gate, _, _, time_gate_fold, mem_gate_fold, time_overall_gate, mem_overall_gate = zip(*gate_results)\n",
    "\n",
    "plt.figure(figsize=(8, 5))\n",
    "\n",
    "plt.plot(num_qubits_list, fidelities_before, 'o-', label=\"Before ZNE\")\n",
    "plt.plot(num_qubits_list, fidelities_exp_circuit, 'o-', label=\"Circuit Folding\")\n",
    "plt.plot(num_qubits_list, fidelities_exp_gate, 'o-', label=\"Gate Folding\")\n",
    "\n",
    "plt.xlabel(\"Number of Qubits\")\n",
    "plt.ylabel(\"Fidelity\")\n",
    "plt.legend()\n",
    "plt.title(\"Scalability: Fidelity vs. Number of Qubits\")\n",
    "plt.grid()\n",
    "plt.show()"
   ]
  },
  {
   "cell_type": "markdown",
   "id": "d0f7bc09",
   "metadata": {},
   "source": [
    "## VI. Collect Data"
   ]
  },
  {
   "cell_type": "code",
   "execution_count": null,
   "id": "0fa92c7d",
   "metadata": {},
   "outputs": [],
   "source": [
    "import csv\n",
    "\n",
    "platform = \"qulacs\"\n",
    "start_qubits = 2\n",
    "\n",
    "datasets = {\n",
    "    \"../Record Data/Memory Usage/baseline.csv\": mem_base,\n",
    "    \"../Record Data/Memory Usage/fold2_circuit.csv\": mem_circ_fold,\n",
    "    \"../Record Data/Memory Usage/fold2_gate.csv\": mem_gate_fold,\n",
    "    \"../Record Data/Memory Usage/overall_fold_circuit.csv\": mem_overall_circ,\n",
    "    \"../Record Data/Memory Usage/overall_fold_gate.csv\": mem_overall_gate,\n",
    "    \"../Record Data/Time Execution/baseline.csv\": time_base,\n",
    "    \"../Record Data/Time Execution/fold2_circuit.csv\": time_circ_fold,\n",
    "    \"../Record Data/Time Execution/fold2_gate.csv\": time_gate_fold,\n",
    "    \"../Record Data/Time Execution/overall_fold_circuit.csv\": time_overall_circ,\n",
    "    \"../Record Data/Time Execution/overall_fold_gate.csv\": time_overall_gate,\n",
    "}\n",
    "\n",
    "for filepath, values in datasets.items():\n",
    "    try:\n",
    "        with open(filepath, \"r\") as f:\n",
    "            lines = f.readlines()\n",
    "        with open(filepath, \"w\") as f:\n",
    "            for line in lines:\n",
    "                if platform not in line:\n",
    "                    f.write(line)\n",
    "    except FileNotFoundError:\n",
    "        pass\n",
    "\n",
    "    with open(filepath, mode=\"a\", newline=\"\") as file:\n",
    "        writer = csv.writer(file)\n",
    "        for i, t in enumerate(values):\n",
    "            writer.writerow([platform, start_qubits + i, t])"
   ]
  }
 ],
 "metadata": {
  "kernelspec": {
   "display_name": "Python 3",
   "language": "python",
   "name": "python3"
  },
  "language_info": {
   "codemirror_mode": {
    "name": "ipython",
    "version": 3
   },
   "file_extension": ".py",
   "mimetype": "text/x-python",
   "name": "python",
   "nbconvert_exporter": "python",
   "pygments_lexer": "ipython3",
   "version": "3.12.10"
  }
 },
 "nbformat": 4,
 "nbformat_minor": 5
}
